{
 "cells": [
  {
   "cell_type": "markdown",
   "id": "f7c32590-73f0-492d-a31b-cdf6eb3dee37",
   "metadata": {},
   "source": [
    "# House Price Prediction "
   ]
  },
  {
   "cell_type": "code",
   "execution_count": null,
   "id": "f86e3b30-45b7-4bea-a725-a37fb4f1871a",
   "metadata": {},
   "outputs": [],
   "source": []
  }
 ],
 "metadata": {
  "kernelspec": {
   "display_name": "Python 3 (ipykernel)",
   "language": "python",
   "name": "python3"
  },
  "language_info": {
   "codemirror_mode": {
    "name": "ipython",
    "version": 3
   },
   "file_extension": ".py",
   "mimetype": "text/x-python",
   "name": "python",
   "nbconvert_exporter": "python",
   "pygments_lexer": "ipython3",
   "version": "3.10.0"
  }
 },
 "nbformat": 4,
 "nbformat_minor": 5
}
