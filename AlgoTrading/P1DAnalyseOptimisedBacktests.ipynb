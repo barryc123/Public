{
 "cells": [
  {
   "cell_type": "code",
   "execution_count": 1,
   "id": "fbf2bf7e-94ec-4328-84e6-82632dce529a",
   "metadata": {},
   "outputs": [],
   "source": [
    "import pandas as pd\n",
    "from ipydatagrid import DataGrid"
   ]
  },
  {
   "cell_type": "code",
   "execution_count": 2,
   "id": "01349e48-3cde-460e-845d-63cdb1294c5f",
   "metadata": {},
   "outputs": [],
   "source": [
    "# read in csv of optimised results\n",
    "results = pd.read_csv(\"historical_data/opt_results_2023-7-1_2023-12-31.csv\")"
   ]
  },
  {
   "cell_type": "code",
   "execution_count": 3,
   "id": "d20ec3ba-427b-46aa-8add-72900164220c",
   "metadata": {},
   "outputs": [],
   "source": [
    "# split into mean reversion and trend following dataframes\n",
    "mean_reversion_results = results.iloc[:24]\n",
    "trend_follow_results = results[24:]"
   ]
  },
  {
   "cell_type": "code",
   "execution_count": 4,
   "id": "a24fbf59-cec2-4e95-8b7c-b4fa0d3e38fa",
   "metadata": {},
   "outputs": [],
   "source": [
    "# set some defaults used for charting\n",
    "default_grid_styling = {\n",
    "    \"background_color\": \"white\",\n",
    "    \"grid_line_color\": \"black\",\n",
    "    \"header_background_color\": \"mediumseagreen\",\n",
    "    \"header_grid_line_color\": \"black\",\n",
    "    \"headerFontStyle\": \"bold\",\n",
    "}"
   ]
  },
  {
   "cell_type": "markdown",
   "id": "a647add2-e0fd-4060-8938-4efa0361e86b",
   "metadata": {},
   "source": [
    "# Mean Reversion Backtest Results"
   ]
  },
  {
   "cell_type": "code",
   "execution_count": 5,
   "id": "a3809586-d250-4056-af11-ff0987b8b433",
   "metadata": {},
   "outputs": [
    {
     "data": {
      "application/vnd.jupyter.widget-view+json": {
       "model_id": "77c31fe264204f87b0ad7adc49065fd1",
       "version_major": 2,
       "version_minor": 0
      },
      "text/plain": [
       "DataGrid(auto_fit_columns=True, auto_fit_params={'area': 'all', 'padding': 30, 'numCols': None}, corner_render…"
      ]
     },
     "execution_count": 5,
     "metadata": {},
     "output_type": "execute_result"
    }
   ],
   "source": [
    "mean_reversion_results_grid = DataGrid(mean_reversion_results.round(4))\n",
    "mean_reversion_results_grid.grid_style = default_grid_styling\n",
    "mean_reversion_results_grid.auto_fit_columns = True\n",
    "mean_reversion_results_grid"
   ]
  },
  {
   "cell_type": "markdown",
   "id": "31ab8d84-307f-4526-998e-eca304c37902",
   "metadata": {},
   "source": [
    "From analysing the optimised results the decision has been made to select the EMA RSI Mean Reversion over the 30 minute period for BCHUSD. This strategy performed well in terms of the return to drawdown ratio, in comparison to the rest of the strategies, and it had a stronger return than the rest of the time horizons. It had an impressive 90% win rate over the perid "
   ]
  },
  {
   "cell_type": "markdown",
   "id": "0cddee1a-366b-410d-8df2-65f64b23cf40",
   "metadata": {},
   "source": [
    "As such the optimal parameters chosen will be:\n",
    "* RSI Window: 10\n",
    "* Lower RSI Band: 30\n",
    "* Upper RSI BAnd: 80\n",
    "* EMA Window: 70"
   ]
  },
  {
   "cell_type": "code",
   "execution_count": null,
   "id": "16070014-d308-4b6f-8d27-aab5554507a6",
   "metadata": {},
   "outputs": [],
   "source": []
  },
  {
   "cell_type": "markdown",
   "id": "2980ae2a-4401-41fb-a373-be62bd384dbe",
   "metadata": {},
   "source": [
    "# Trend Following Backtest Results"
   ]
  },
  {
   "cell_type": "code",
   "execution_count": 6,
   "id": "7bbf0650-a2e2-4d8d-b36f-dba90d982c93",
   "metadata": {},
   "outputs": [
    {
     "data": {
      "application/vnd.jupyter.widget-view+json": {
       "model_id": "d67604ea50a242e6b07e0e29028e2894",
       "version_major": 2,
       "version_minor": 0
      },
      "text/plain": [
       "DataGrid(auto_fit_columns=True, auto_fit_params={'area': 'all', 'padding': 30, 'numCols': None}, corner_render…"
      ]
     },
     "execution_count": 6,
     "metadata": {},
     "output_type": "execute_result"
    }
   ],
   "source": [
    "trend_follow_results_grid = DataGrid(trend_follow_results.round(4))\n",
    "trend_follow_results_grid.grid_style = default_grid_styling\n",
    "trend_follow_results_grid.auto_fit_columns = True\n",
    "trend_follow_results_grid"
   ]
  },
  {
   "cell_type": "markdown",
   "id": "ad864bf2-8ed0-4ae3-adf4-76faf806dacc",
   "metadata": {},
   "source": [
    "The MACD ADX trend following strategy for BCHUSD over the 30 minute interval was arguably the best performing strategy, with higher returns relative to the other strategies. \n",
    "\n",
    "The optimal paramaters to be used are:\n",
    "* ADX Window: 13\n",
    "* ADX Threhsold: 25\n",
    "* ADX Exit Threshold: 20\n",
    "* MACD Short Window: 14\n",
    "* MACD Long Window: 28\n",
    "* MACD Signal Window: 9"
   ]
  },
  {
   "cell_type": "code",
   "execution_count": null,
   "id": "3b721bc5-c7cb-40e7-9da6-9b0c66fc1af9",
   "metadata": {},
   "outputs": [],
   "source": []
  }
 ],
 "metadata": {
  "kernelspec": {
   "display_name": "Python (venv)",
   "language": "python",
   "name": "venv"
  },
  "language_info": {
   "codemirror_mode": {
    "name": "ipython",
    "version": 3
   },
   "file_extension": ".py",
   "mimetype": "text/x-python",
   "name": "python",
   "nbconvert_exporter": "python",
   "pygments_lexer": "ipython3",
   "version": "3.10.0"
  }
 },
 "nbformat": 4,
 "nbformat_minor": 5
}
