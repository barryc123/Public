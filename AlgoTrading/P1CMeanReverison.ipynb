{
 "cells": [
  {
   "cell_type": "markdown",
   "id": "fa3d65eb-0310-48d9-bd5e-08506dd5c90a",
   "metadata": {},
   "source": [
    "# Mean Reversion"
   ]
  },
  {
   "cell_type": "code",
   "execution_count": 1,
   "id": "36a8fa46-36f1-4eba-b78f-93bc4e0f779d",
   "metadata": {},
   "outputs": [],
   "source": [
    "import pandas as pd\n",
    "import numpy as np\n",
    "from statsmodels.tsa.stattools import adfuller\n",
    "from scipy.optimize import minimize\n",
    "import matplotlib.pyplot as plt\n",
    "\n",
    "from typing import Tuple, Union\n",
    "from datetime import datetime"
   ]
  },
  {
   "cell_type": "code",
   "execution_count": 2,
   "id": "001bac21-ca26-455f-99f3-58520d53f628",
   "metadata": {},
   "outputs": [],
   "source": [
    "sym_list = [\"BCHUSD\", \"ETHUSD\", \"USDTUSD\"]\n",
    "data_dict = {}\n",
    "\n",
    "# loop through list and assign data\n",
    "for sym in sym_list:\n",
    "    # Generate the key dynamically\n",
    "    key = f\"{sym}_2023\"\n",
    "    data =  pd.read_csv(f\"{key}.csv\")\n",
    "    data.columns = data.columns.str.upper()\n",
    "    data[\"DATE\"] = pd.to_datetime(data[\"DATE\"])\n",
    "    data = data.set_index(\"DATE\")\n",
    "    data_dict[sym] = data   "
   ]
  },
  {
   "cell_type": "code",
   "execution_count": 3,
   "id": "1c45cfc0-ef70-4ce5-992b-82dd16c9d1c1",
   "metadata": {},
   "outputs": [
    {
     "data": {
      "text/plain": [
       "dict_keys(['BCHUSD', 'ETHUSD', 'USDTUSD'])"
      ]
     },
     "execution_count": 3,
     "metadata": {},
     "output_type": "execute_result"
    }
   ],
   "source": [
    "data_dict.keys()"
   ]
  },
  {
   "cell_type": "code",
   "execution_count": 4,
   "id": "4e311dfc-e3f1-4f1d-8c91-734ba46117e7",
   "metadata": {},
   "outputs": [
    {
     "data": {
      "text/html": [
       "<div>\n",
       "<style scoped>\n",
       "    .dataframe tbody tr th:only-of-type {\n",
       "        vertical-align: middle;\n",
       "    }\n",
       "\n",
       "    .dataframe tbody tr th {\n",
       "        vertical-align: top;\n",
       "    }\n",
       "\n",
       "    .dataframe thead th {\n",
       "        text-align: right;\n",
       "    }\n",
       "</style>\n",
       "<table border=\"1\" class=\"dataframe\">\n",
       "  <thead>\n",
       "    <tr style=\"text-align: right;\">\n",
       "      <th></th>\n",
       "      <th>BCHUSD</th>\n",
       "      <th>ETHUSD</th>\n",
       "      <th>USDTUSD</th>\n",
       "    </tr>\n",
       "  </thead>\n",
       "  <tbody>\n",
       "    <tr>\n",
       "      <th>2023-07-01 00:00:00+00:00</th>\n",
       "      <td>307.492000</td>\n",
       "      <td>1935.306488</td>\n",
       "      <td>0.999700</td>\n",
       "    </tr>\n",
       "    <tr>\n",
       "      <th>2023-07-01 00:05:00+00:00</th>\n",
       "      <td>307.065500</td>\n",
       "      <td>1936.735405</td>\n",
       "      <td>1.000006</td>\n",
       "    </tr>\n",
       "    <tr>\n",
       "      <th>2023-07-01 00:10:00+00:00</th>\n",
       "      <td>301.070000</td>\n",
       "      <td>1932.105500</td>\n",
       "      <td>0.999668</td>\n",
       "    </tr>\n",
       "    <tr>\n",
       "      <th>2023-07-01 00:15:00+00:00</th>\n",
       "      <td>303.241024</td>\n",
       "      <td>1933.941828</td>\n",
       "      <td>0.999678</td>\n",
       "    </tr>\n",
       "    <tr>\n",
       "      <th>2023-07-01 00:20:00+00:00</th>\n",
       "      <td>309.665000</td>\n",
       "      <td>1935.518951</td>\n",
       "      <td>0.999877</td>\n",
       "    </tr>\n",
       "    <tr>\n",
       "      <th>...</th>\n",
       "      <td>...</td>\n",
       "      <td>...</td>\n",
       "      <td>...</td>\n",
       "    </tr>\n",
       "    <tr>\n",
       "      <th>2023-12-30 23:40:00+00:00</th>\n",
       "      <td>271.894000</td>\n",
       "      <td>2293.045000</td>\n",
       "      <td>1.000069</td>\n",
       "    </tr>\n",
       "    <tr>\n",
       "      <th>2023-12-30 23:45:00+00:00</th>\n",
       "      <td>271.517000</td>\n",
       "      <td>2293.600000</td>\n",
       "      <td>1.000133</td>\n",
       "    </tr>\n",
       "    <tr>\n",
       "      <th>2023-12-30 23:50:00+00:00</th>\n",
       "      <td>271.231000</td>\n",
       "      <td>2292.835000</td>\n",
       "      <td>1.000302</td>\n",
       "    </tr>\n",
       "    <tr>\n",
       "      <th>2023-12-30 23:55:00+00:00</th>\n",
       "      <td>270.485000</td>\n",
       "      <td>2291.201500</td>\n",
       "      <td>1.000275</td>\n",
       "    </tr>\n",
       "    <tr>\n",
       "      <th>2023-12-31 00:00:00+00:00</th>\n",
       "      <td>270.965500</td>\n",
       "      <td>2294.204500</td>\n",
       "      <td>1.000125</td>\n",
       "    </tr>\n",
       "  </tbody>\n",
       "</table>\n",
       "<p>52705 rows × 3 columns</p>\n",
       "</div>"
      ],
      "text/plain": [
       "                               BCHUSD       ETHUSD   USDTUSD\n",
       "2023-07-01 00:00:00+00:00  307.492000  1935.306488  0.999700\n",
       "2023-07-01 00:05:00+00:00  307.065500  1936.735405  1.000006\n",
       "2023-07-01 00:10:00+00:00  301.070000  1932.105500  0.999668\n",
       "2023-07-01 00:15:00+00:00  303.241024  1933.941828  0.999678\n",
       "2023-07-01 00:20:00+00:00  309.665000  1935.518951  0.999877\n",
       "...                               ...          ...       ...\n",
       "2023-12-30 23:40:00+00:00  271.894000  2293.045000  1.000069\n",
       "2023-12-30 23:45:00+00:00  271.517000  2293.600000  1.000133\n",
       "2023-12-30 23:50:00+00:00  271.231000  2292.835000  1.000302\n",
       "2023-12-30 23:55:00+00:00  270.485000  2291.201500  1.000275\n",
       "2023-12-31 00:00:00+00:00  270.965500  2294.204500  1.000125\n",
       "\n",
       "[52705 rows x 3 columns]"
      ]
     },
     "execution_count": 4,
     "metadata": {},
     "output_type": "execute_result"
    }
   ],
   "source": [
    "# format all dfs into one\n",
    "\n",
    "start_date = pd.Timestamp(\"2023-07-01 00:00:00+00:00\")\n",
    "end_date = pd.Timestamp(\"2023-12-31 00:00:00+00:00\")\n",
    "full_date_range = pd.date_range(start=start_date, end=end_date, freq=\"5min\")\n",
    "\n",
    "\n",
    "def fill_entire_time_period_daily(df: pd.DataFrame) -> pd.DataFrame:\n",
    "    \"\"\"Function to ensure time period has 5 minutely data.\"\"\"\n",
    "    df = df.reindex(full_date_range)\n",
    "    \n",
    "    #forward fill most missing values \n",
    "    df = df.ffill()\n",
    "\n",
    "    # backfill any data missing at the start\n",
    "    df = df.bfill()\n",
    "\n",
    "    return df\n",
    "\n",
    "bchusd = fill_entire_time_period_daily(df=data_dict[\"BCHUSD\"])\n",
    "ethusd = fill_entire_time_period_daily(df=data_dict[\"ETHUSD\"])\n",
    "# some duplicate indices found in USDTUSD dataset\n",
    "data_dict[\"USDTUSD\"] = data_dict[\"USDTUSD\"][~data_dict[\"USDTUSD\"].index.duplicated(keep='first')]\n",
    "usdtusd = fill_entire_time_period_daily(df=data_dict[\"USDTUSD\"])\n",
    "\n",
    "\n",
    "# combine to single df\n",
    "all_prices_df = pd.DataFrame()\n",
    "all_prices_df[\"BCHUSD\"] = bchusd[\"CLOSE\"]\n",
    "all_prices_df[\"ETHUSD\"] = ethusd[\"CLOSE\"]\n",
    "all_prices_df[\"USDTUSD\"] = usdtusd[\"CLOSE\"]\n",
    "all_prices_df"
   ]
  },
  {
   "cell_type": "markdown",
   "id": "933c8a86-baa4-4068-8a39-ad7a9465d4f1",
   "metadata": {},
   "source": [
    "## BCHUSD"
   ]
  },
  {
   "cell_type": "code",
   "execution_count": 5,
   "id": "bd42ebca-5fe0-4874-b5b9-6e80fce3a089",
   "metadata": {},
   "outputs": [
    {
     "name": "stdout",
     "output_type": "stream",
     "text": [
      "Prices\n",
      "ADF Statistic: -3.0731051824563034\n",
      "p-value: 0.02860861426898512\n",
      "Num lags used: 8\n",
      "Num obsvs used: 52696\n",
      "ADF Test Critical Values: {'1%': -3.4304741008534365, '5%': -2.861594850090369, '10%': -2.5667991948782785}\n",
      "\n",
      "\n",
      "Returns\n",
      "ADF Statistic: -84.27145280496882\n",
      "p-value: 0.0\n",
      "Num lags used: 7\n",
      "Num obsvs used: 52696\n",
      "ADF Test Critical Values: {'1%': -3.4304741008534365, '5%': -2.861594850090369, '10%': -2.5667991948782785}\n"
     ]
    }
   ],
   "source": [
    "prices = all_prices_df[\"BCHUSD\"]\n",
    "log_prices = np.log(prices)\n",
    "\n",
    "# Check for stationarity using ADF test\n",
    "adf_result = adfuller(log_prices)\n",
    "print(\"Prices\")\n",
    "print(\"ADF Statistic:\", adf_result[0])\n",
    "print(\"p-value:\", adf_result[1])\n",
    "print(\"Num lags used:\", adf_result[2])\n",
    "print(\"Num obsvs used:\", adf_result[3])\n",
    "print(\"ADF Test Critical Values:\", adf_result[4])\n",
    "print(\"\\n\")\n",
    "\n",
    "# check on returns on log prices \n",
    "returns = log_prices.diff().dropna()\n",
    "print(\"Returns\")\n",
    "\n",
    "# Check for stationarity using ADF test\n",
    "adf_result = adfuller(returns)\n",
    "print(\"ADF Statistic:\", adf_result[0])\n",
    "print(\"p-value:\", adf_result[1])\n",
    "print(\"Num lags used:\", adf_result[2])\n",
    "print(\"Num obsvs used:\", adf_result[3])\n",
    "print(\"ADF Test Critical Values:\", adf_result[4])"
   ]
  },
  {
   "cell_type": "markdown",
   "id": "0e269185-3791-443a-a418-ebd5215441eb",
   "metadata": {},
   "source": [
    "## ETHUSD"
   ]
  },
  {
   "cell_type": "code",
   "execution_count": 6,
   "id": "f9330616-5d4d-47f9-bba5-271566896aac",
   "metadata": {},
   "outputs": [
    {
     "name": "stdout",
     "output_type": "stream",
     "text": [
      "Prices\n",
      "ADF Statistic: -0.4586332207426867\n",
      "p-value: 0.8998393095847448\n",
      "Num lags used: 24\n",
      "Num obsvs used: 52680\n",
      "ADF Test Critical Values: {'1%': -3.430474138547256, '5%': -2.8615948667499334, '10%': -2.566799203745671}\n",
      "\n",
      "\n",
      "Returns\n",
      "ADF Statistic: -48.18834493693351\n",
      "p-value: 0.0\n",
      "Num lags used: 23\n",
      "Num obsvs used: 52680\n",
      "ADF Test Critical Values: {'1%': -3.430474138547256, '5%': -2.8615948667499334, '10%': -2.566799203745671}\n"
     ]
    }
   ],
   "source": [
    "prices = all_prices_df[\"ETHUSD\"]\n",
    "log_prices = np.log(prices)\n",
    "\n",
    "# Check for stationarity using ADF test\n",
    "adf_result = adfuller(log_prices)\n",
    "print(\"Prices\")\n",
    "print(\"ADF Statistic:\", adf_result[0])\n",
    "print(\"p-value:\", adf_result[1])\n",
    "print(\"Num lags used:\", adf_result[2])\n",
    "print(\"Num obsvs used:\", adf_result[3])\n",
    "print(\"ADF Test Critical Values:\", adf_result[4])\n",
    "print(\"\\n\")\n",
    "\n",
    "# check on returns on log prices \n",
    "returns = log_prices.diff().dropna()\n",
    "print(\"Returns\")\n",
    "\n",
    "# Check for stationarity using ADF test\n",
    "adf_result = adfuller(returns)\n",
    "print(\"ADF Statistic:\", adf_result[0])\n",
    "print(\"p-value:\", adf_result[1])\n",
    "print(\"Num lags used:\", adf_result[2])\n",
    "print(\"Num obsvs used:\", adf_result[3])\n",
    "print(\"ADF Test Critical Values:\", adf_result[4])"
   ]
  },
  {
   "cell_type": "markdown",
   "id": "55525cbb-1a43-4067-9e13-d1cfae9d8a03",
   "metadata": {},
   "source": [
    "## USDTUSD"
   ]
  },
  {
   "cell_type": "code",
   "execution_count": 7,
   "id": "5a296f33-43d0-4242-b945-388f895cf7f9",
   "metadata": {},
   "outputs": [
    {
     "name": "stdout",
     "output_type": "stream",
     "text": [
      "Prices\n",
      "ADF Statistic: -6.93225313933133\n",
      "p-value: 1.0766239922195141e-09\n",
      "Num lags used: 34\n",
      "Num obsvs used: 52670\n",
      "ADF Test Critical Values: {'1%': -3.4304741621175237, '5%': -2.861594877167301, '10%': -2.566799209290527}\n",
      "\n",
      "\n",
      "Returns\n",
      "ADF Statistic: -39.71881662976936\n",
      "p-value: 0.0\n",
      "Num lags used: 52\n",
      "Num obsvs used: 52651\n",
      "ADF Test Critical Values: {'1%': -3.4304742069256995, '5%': -2.8615948969712024, '10%': -2.566799219831557}\n"
     ]
    }
   ],
   "source": [
    "prices = all_prices_df[\"USDTUSD\"]\n",
    "log_prices = np.log(prices)\n",
    "\n",
    "# Check for stationarity using ADF test\n",
    "adf_result = adfuller(log_prices)\n",
    "print(\"Prices\")\n",
    "print(\"ADF Statistic:\", adf_result[0])\n",
    "print(\"p-value:\", adf_result[1])\n",
    "print(\"Num lags used:\", adf_result[2])\n",
    "print(\"Num obsvs used:\", adf_result[3])\n",
    "print(\"ADF Test Critical Values:\", adf_result[4])\n",
    "print(\"\\n\")\n",
    "\n",
    "# check on returns on log prices \n",
    "returns = log_prices.diff().dropna()\n",
    "print(\"Returns\")\n",
    "\n",
    "# Check for stationarity using ADF test\n",
    "adf_result = adfuller(returns)\n",
    "print(\"ADF Statistic:\", adf_result[0])\n",
    "print(\"p-value:\", adf_result[1])\n",
    "print(\"Num lags used:\", adf_result[2])\n",
    "print(\"Num obsvs used:\", adf_result[3])\n",
    "print(\"ADF Test Critical Values:\", adf_result[4])"
   ]
  },
  {
   "cell_type": "markdown",
   "id": "ae83dcaa-f249-438d-aa6a-d20cfe087bdc",
   "metadata": {},
   "source": [
    "* For USDTUSD prices, the p-value for the Augmented Dickey Fuller statistic (ADF) is low the ADF p-value is extremely low (1.08 * 10^-9), meaning we can reject the null hypothesis of non-stationarity at all critical level values (1%, 5% and 10%)\n",
    "* Log prices often show trends and are typically non-stationary, as can be seen in the test results for ETHUSD log prices. However this is an expected result as USDTUSD (Tether) is a stablecoin that is pegged to the US dollar.\n",
    "\n",
    "\n",
    "* For USDTUSD Returns, the extremely low ADF statistics and p-value confirm the returns are stationary. "
   ]
  },
  {
   "cell_type": "code",
   "execution_count": 8,
   "id": "e4671ccb-8a0c-421f-95a8-bef185eabdec",
   "metadata": {},
   "outputs": [
    {
     "data": {
      "image/png": "[encoded data removed]",
      "text/plain": [
       "<Figure size 1000x600 with 1 Axes>"
      ]
     },
     "metadata": {},
     "output_type": "display_data"
    }
   ],
   "source": [
    "plt.figure(figsize=(10, 6))\n",
    "plt.plot(all_prices_df.index, all_prices_df[\"USDTUSD\"], label=\"USDTUSD 2023 Price\", linewidth=2)\n",
    "plt.title(\"USDTUSD Price 2023\", fontsize=16)\n",
    "plt.xlabel(\"Date\", fontsize=12)\n",
    "plt.ylabel(\"Price\", fontsize=12)\n",
    "plt.grid(True, linestyle=\"--\", alpha=0.5)\n",
    "plt.legend(fontsize=12)\n",
    "plt.tight_layout()\n",
    "plt.show()"
   ]
  },
  {
   "cell_type": "code",
   "execution_count": null,
   "id": "a19dcb61-f1c5-4700-95b2-ca5df16eb5af",
   "metadata": {},
   "outputs": [],
   "source": []
  }
 ],
 "metadata": {
  "kernelspec": {
   "display_name": "Python (venv)",
   "language": "python",
   "name": "venv"
  },
  "language_info": {
   "codemirror_mode": {
    "name": "ipython",
    "version": 3
   },
   "file_extension": ".py",
   "mimetype": "text/x-python",
   "name": "python",
   "nbconvert_exporter": "python",
   "pygments_lexer": "ipython3",
   "version": "3.10.0"
  }
 },
 "nbformat": 4,
 "nbformat_minor": 5
}
